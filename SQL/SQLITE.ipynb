{
 "cells": [
  {
   "cell_type": "code",
   "execution_count": 1,
   "metadata": {},
   "outputs": [],
   "source": [
    "import sqlite3"
   ]
  },
  {
   "cell_type": "code",
   "execution_count": 2,
   "metadata": {},
   "outputs": [],
   "source": [
    "#connection a ()\n",
    "connexion = sqlite3.connect('jobs.db')"
   ]
  },
  {
   "cell_type": "code",
   "execution_count": 3,
   "metadata": {},
   "outputs": [],
   "source": [
    "# cursor()\n",
    "t= () # un tuple vide sans element"
   ]
  },
  {
   "cell_type": "code",
   "execution_count": 4,
   "metadata": {},
   "outputs": [],
   "source": [
    "cursor = connexion.cursor()"
   ]
  },
  {
   "cell_type": "code",
   "execution_count": 5,
   "metadata": {},
   "outputs": [],
   "source": [
    "query = \"SELECT * FROM recent_grads;\""
   ]
  },
  {
   "cell_type": "code",
   "execution_count": 6,
   "metadata": {},
   "outputs": [
    {
     "data": {
      "text/plain": [
       "<sqlite3.Cursor at 0x7fcd28157c00>"
      ]
     },
     "execution_count": 6,
     "metadata": {},
     "output_type": "execute_result"
    }
   ],
   "source": [
    "#executer la variable SQL situer dans la variable query \n",
    "cursor.execute(query)"
   ]
  },
  {
   "cell_type": "code",
   "execution_count": 7,
   "metadata": {},
   "outputs": [],
   "source": [
    "results = cursor.fetchall()"
   ]
  },
  {
   "cell_type": "code",
   "execution_count": 8,
   "metadata": {},
   "outputs": [
    {
     "name": "stdout",
     "output_type": "stream",
     "text": [
      "[(0, 1, 2419, 'PETROLEUM ENGINEERING', 'Engineering', 2339, 36, 2057, 282, 0.120564344, 1976, 1849, 270, 1207, 37, 0.018380527, 110000, 95000, 125000, 1534, 364, 193), (1, 2, 2416, 'MINING AND MINERAL ENGINEERING', 'Engineering', 756, 7, 679, 77, 0.10185185199999999, 640, 556, 170, 388, 85, 0.117241379, 75000, 55000, 90000, 350, 257, 50), (2, 3, 2415, 'METALLURGICAL ENGINEERING', 'Engineering', 856, 3, 725, 131, 0.153037383, 648, 558, 133, 340, 16, 0.024096386, 73000, 50000, 105000, 456, 176, 0), (3, 4, 2417, 'NAVAL ARCHITECTURE AND MARINE ENGINEERING', 'Engineering', 1258, 16, 1123, 135, 0.107313196, 758, 1069, 150, 692, 40, 0.050125313, 70000, 43000, 80000, 529, 102, 0), (4, 5, 2405, 'CHEMICAL ENGINEERING', 'Engineering', 32260, 289, 21239, 11021, 0.341630502, 25694, 23170, 5180, 16697, 1672, 0.061097712, 65000, 50000, 75000, 18314, 4440, 972)]\n"
     ]
    }
   ],
   "source": [
    "print(results[0:5])"
   ]
  },
  {
   "cell_type": "code",
   "execution_count": 9,
   "metadata": {},
   "outputs": [],
   "source": [
    "connexion.close()"
   ]
  },
  {
   "cell_type": "code",
   "execution_count": 10,
   "metadata": {},
   "outputs": [],
   "source": [
    "# Calculer une estimation de la population en 2050\n",
    " \n",
    "import pandas as pd \n",
    "import sqlite3\n",
    "import math\n",
    " "
   ]
  },
  {
   "cell_type": "code",
   "execution_count": 11,
   "metadata": {},
   "outputs": [],
   "source": [
    "# Connexion à la base de données factbook.db\n",
    "connexion = sqlite3.connect('factbook.db')"
   ]
  },
  {
   "cell_type": "code",
   "execution_count": 12,
   "metadata": {},
   "outputs": [],
   "source": [
    "# Lecture des données de la table facts dans un tableau pandas\n",
    "a = pd.read_sql_query('SELECT * FROM facts;', con = connexion)"
   ]
  },
  {
   "cell_type": "code",
   "execution_count": 13,
   "metadata": {},
   "outputs": [],
   "source": [
    "# Calcul théorique:\n",
    "# N = N0*e**(rt)\n",
    "# N = population finale\n",
    "# N0 = population initiale\n",
    "# e = constante\n",
    "# r = taux de croissance annuelle\n",
    "# t = nombre d'années entre l'estimation et l'initiale\n",
    "# 5000 habitants, taux de croissance t de 4% 2015 --> 2050, donc t = 35\n",
    "# N = 5000 * e ** (0.04 * 35)\n",
    " \n",
    "#définition de la fonction qui calcule une estimation de la population en 2015 suivant le calcul ci-dessus:\n",
    "\n",
    "def pop_growth(x):\n",
    "    \n",
    "     return x['population'] * math.e ** ((x['population_growth']/100)* 35)"
   ]
  },
  {
   "cell_type": "code",
   "execution_count": 14,
   "metadata": {},
   "outputs": [],
   "source": [
    "# Application de la fonction pop_growth à chaque pays + création d'une colonne pop_2050 contenant les résultats\n",
    "a['pop_2050'] = a.apply(lambda row: pop_growth(row), axis=1)\n",
    " "
   ]
  },
  {
   "cell_type": "code",
   "execution_count": 15,
   "metadata": {},
   "outputs": [],
   "source": [
    "# Suppression des lignes contenant des valeurs manquantes\n",
    "a = a.dropna(axis = 0)\n",
    " "
   ]
  },
  {
   "cell_type": "code",
   "execution_count": 16,
   "metadata": {},
   "outputs": [],
   "source": [
    "# On filtre les pays qui ont une surface terrestre > 0 et une population > 0\n",
    "a = a[(a['area_land'] > 0) & (a['population'] > 0)]\n",
    " "
   ]
  },
  {
   "cell_type": "code",
   "execution_count": 17,
   "metadata": {},
   "outputs": [],
   "source": [
    "# On trie les pays par population décroissante\n",
    "b = a.sort_values(['pop_2050'], ascending = [False])\n",
    " "
   ]
  },
  {
   "cell_type": "code",
   "execution_count": 18,
   "metadata": {},
   "outputs": [
    {
     "name": "stdout",
     "output_type": "stream",
     "text": [
      "76                                 India\n",
      "36                                 China\n",
      "128                              Nigeria\n",
      "185                        United States\n",
      "77                             Indonesia\n",
      "131                             Pakistan\n",
      "13                            Bangladesh\n",
      "23                                Brazil\n",
      "39     Congo, Democratic Republic of the\n",
      "Name: name, dtype: object\n"
     ]
    }
   ],
   "source": [
    "# On assigne à la variable b les noms des pays correspondants limités à 10 valeurs\n",
    "b = b['name'].iloc[0:9]\n",
    " \n",
    "# On affiche le résultat final\n",
    "print(b)"
   ]
  },
  {
   "cell_type": "code",
   "execution_count": 19,
   "metadata": {},
   "outputs": [],
   "source": [
    "connexion.close()"
   ]
  },
  {
   "cell_type": "code",
   "execution_count": 20,
   "metadata": {},
   "outputs": [],
   "source": [
    "# Objectif: Calculer le ratio de la surface terrestre totale sur la surface\n",
    "# des océans totale appartenant aux pays de la table facts\n",
    " "
   ]
  },
  {
   "cell_type": "code",
   "execution_count": 21,
   "metadata": {},
   "outputs": [],
   "source": [
    "import sqlite3\n",
    "import pandas as pd\n",
    " \n",
    "connexion = sqlite3.connect('factbook.db')\n",
    " "
   ]
  },
  {
   "cell_type": "code",
   "execution_count": 22,
   "metadata": {},
   "outputs": [],
   "source": [
    "# On affiche dans un tableau pandas les sommes des surfaces terrestres et surfaces de l'eau pour chaque pays\n",
    "a = pd.read_sql_query('SELECT SUM(area_land), SUM(area_water)FROM facts WHERE area_land != \"\";', con = connexion)\n"
   ]
  },
  {
   "cell_type": "code",
   "execution_count": 23,
   "metadata": {},
   "outputs": [
    {
     "name": "stdout",
     "output_type": "stream",
     "text": [
      "0    28.390657\n",
      "dtype: float64\n"
     ]
    }
   ],
   "source": [
    "# On affiche le ratio Terre / Mer\n",
    "print(a['SUM(area_land)']/a['SUM(area_water)'])"
   ]
  },
  {
   "cell_type": "code",
   "execution_count": 24,
   "metadata": {},
   "outputs": [],
   "source": [
    "connexion.close()"
   ]
  },
  {
   "cell_type": "code",
   "execution_count": 30,
   "metadata": {},
   "outputs": [
    {
     "name": "stdout",
     "output_type": "stream",
     "text": [
      "0.0\n"
     ]
    }
   ],
   "source": [
    "import sqlite3\n",
    " \n",
    "connexion = sqlite3.connect('factbook.db')\n",
    "pop_growth_tuple=connexion.execute(\"SELECT min(population_growth)FROM facts;\").fetchall()\n",
    "min_population_growth= pop_growth_tuple[0][0]\n",
    "print(min_population_growth)\n"
   ]
  },
  {
   "cell_type": "code",
   "execution_count": 32,
   "metadata": {},
   "outputs": [
    {
     "name": "stdout",
     "output_type": "stream",
     "text": [
      "14.89\n"
     ]
    }
   ],
   "source": [
    "connexion = sqlite3.connect('factbook.db')\n",
    "pop_dead_tuple=connexion.execute(\"SELECT max(death_rate)FROM facts;\").fetchall()\n",
    "max_population_dead= pop_dead_tuple[0][0]\n",
    "print(max_population_dead)\n"
   ]
  },
  {
   "cell_type": "code",
   "execution_count": 33,
   "metadata": {},
   "outputs": [
    {
     "name": "stdout",
     "output_type": "stream",
     "text": [
      "128584834\n"
     ]
    }
   ],
   "source": [
    "connexion = sqlite3.connect('factbook.db')\n",
    "pop_area_land_tuple=connexion.execute(\"SELECT sum(area_land)FROM facts;\").fetchall()\n",
    "sum_area= pop_area_land_tuple[0][0]\n",
    "print(sum_area)"
   ]
  },
  {
   "cell_type": "code",
   "execution_count": 35,
   "metadata": {},
   "outputs": [
    {
     "name": "stdout",
     "output_type": "stream",
     "text": [
      "19067.59259259259\n"
     ]
    }
   ],
   "source": [
    "connexion = sqlite3.connect('factbook.db')\n",
    "pop_area_water_tuple=connexion.execute(\"SELECT avg(area_water)FROM facts;\").fetchall()\n",
    "moyen_area_water= pop_area_water_tuple[0][0]\n",
    "print(moyen_area_water)"
   ]
  },
  {
   "cell_type": "code",
   "execution_count": 40,
   "metadata": {},
   "outputs": [
    {
     "name": "stdout",
     "output_type": "stream",
     "text": [
      "19067.59259259259 261 4406.909999999998\n"
     ]
    }
   ],
   "source": [
    "#requette sur plusieur statistique et mise sur des variable differente \n",
    "connexion = sqlite3.connect('factbook.db')\n",
    "pop_tuple=connexion.execute(\"SELECT count(*), sum(birth_rate), avg(area_water)FROM facts;\").fetchall()\n",
    "count_fact= pop_tuple[0][0]\n",
    "sum_bird=pop_tuple[0][1]\n",
    "moyenne_area_water = pop_tuple[0][2]\n",
    "print(moyenne_area_water,count_fact,sum_bird)"
   ]
  },
  {
   "cell_type": "code",
   "execution_count": null,
   "metadata": {},
   "outputs": [],
   "source": []
  }
 ],
 "metadata": {
  "kernelspec": {
   "display_name": "Python 3",
   "language": "python",
   "name": "python3"
  },
  "language_info": {
   "codemirror_mode": {
    "name": "ipython",
    "version": 3
   },
   "file_extension": ".py",
   "mimetype": "text/x-python",
   "name": "python",
   "nbconvert_exporter": "python",
   "pygments_lexer": "ipython3",
   "version": "3.7.7"
  }
 },
 "nbformat": 4,
 "nbformat_minor": 4
}
