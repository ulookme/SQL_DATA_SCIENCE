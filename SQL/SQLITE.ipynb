{
 "cells": [
  {
   "cell_type": "code",
   "execution_count": 1,
   "metadata": {},
   "outputs": [],
   "source": [
    "import sqlite3"
   ]
  },
  {
   "cell_type": "code",
   "execution_count": 2,
   "metadata": {},
   "outputs": [],
   "source": [
    "#connection a ()\n",
    "connexion = sqlite3.connect('jobs.db')"
   ]
  },
  {
   "cell_type": "code",
   "execution_count": 3,
   "metadata": {},
   "outputs": [],
   "source": [
    "# cursor()\n",
    "t= () # un tuple vide sans element"
   ]
  },
  {
   "cell_type": "code",
   "execution_count": 4,
   "metadata": {},
   "outputs": [],
   "source": [
    "cursor = connexion.cursor()"
   ]
  },
  {
   "cell_type": "code",
   "execution_count": 5,
   "metadata": {},
   "outputs": [],
   "source": [
    "query = \"SELECT * FROM recent_grads;\""
   ]
  },
  {
   "cell_type": "code",
   "execution_count": 6,
   "metadata": {},
   "outputs": [
    {
     "data": {
      "text/plain": [
       "<sqlite3.Cursor at 0x7fcd28157c00>"
      ]
     },
     "execution_count": 6,
     "metadata": {},
     "output_type": "execute_result"
    }
   ],
   "source": [
    "#executer la variable SQL situer dans la variable query \n",
    "cursor.execute(query)"
   ]
  },
  {
   "cell_type": "code",
   "execution_count": 7,
   "metadata": {},
   "outputs": [],
   "source": [
    "results = cursor.fetchall()"
   ]
  },
  {
   "cell_type": "code",
   "execution_count": 8,
   "metadata": {},
   "outputs": [
    {
     "name": "stdout",
     "output_type": "stream",
     "text": [
      "[(0, 1, 2419, 'PETROLEUM ENGINEERING', 'Engineering', 2339, 36, 2057, 282, 0.120564344, 1976, 1849, 270, 1207, 37, 0.018380527, 110000, 95000, 125000, 1534, 364, 193), (1, 2, 2416, 'MINING AND MINERAL ENGINEERING', 'Engineering', 756, 7, 679, 77, 0.10185185199999999, 640, 556, 170, 388, 85, 0.117241379, 75000, 55000, 90000, 350, 257, 50), (2, 3, 2415, 'METALLURGICAL ENGINEERING', 'Engineering', 856, 3, 725, 131, 0.153037383, 648, 558, 133, 340, 16, 0.024096386, 73000, 50000, 105000, 456, 176, 0), (3, 4, 2417, 'NAVAL ARCHITECTURE AND MARINE ENGINEERING', 'Engineering', 1258, 16, 1123, 135, 0.107313196, 758, 1069, 150, 692, 40, 0.050125313, 70000, 43000, 80000, 529, 102, 0), (4, 5, 2405, 'CHEMICAL ENGINEERING', 'Engineering', 32260, 289, 21239, 11021, 0.341630502, 25694, 23170, 5180, 16697, 1672, 0.061097712, 65000, 50000, 75000, 18314, 4440, 972)]\n"
     ]
    }
   ],
   "source": [
    "print(results[0:5])"
   ]
  },
  {
   "cell_type": "code",
   "execution_count": 9,
   "metadata": {},
   "outputs": [],
   "source": [
    "connexion.close()"
   ]
  },
  {
   "cell_type": "code",
   "execution_count": 10,
   "metadata": {},
   "outputs": [],
   "source": [
    "# Calculer une estimation de la population en 2050\n",
    " \n",
    "import pandas as pd \n",
    "import sqlite3\n",
    "import math\n",
    " "
   ]
  },
  {
   "cell_type": "code",
   "execution_count": 11,
   "metadata": {},
   "outputs": [],
   "source": [
    "# Connexion à la base de données factbook.db\n",
    "connexion = sqlite3.connect('factbook.db')"
   ]
  },
  {
   "cell_type": "code",
   "execution_count": 12,
   "metadata": {},
   "outputs": [],
   "source": [
    "# Lecture des données de la table facts dans un tableau pandas\n",
    "a = pd.read_sql_query('SELECT * FROM facts;', con = connexion)"
   ]
  },
  {
   "cell_type": "code",
   "execution_count": 13,
   "metadata": {},
   "outputs": [],
   "source": [
    "# Calcul théorique:\n",
    "# N = N0*e**(rt)\n",
    "# N = population finale\n",
    "# N0 = population initiale\n",
    "# e = constante\n",
    "# r = taux de croissance annuelle\n",
    "# t = nombre d'années entre l'estimation et l'initiale\n",
    "# 5000 habitants, taux de croissance t de 4% 2015 --> 2050, donc t = 35\n",
    "# N = 5000 * e ** (0.04 * 35)\n",
    " \n",
    "#définition de la fonction qui calcule une estimation de la population en 2015 suivant le calcul ci-dessus:\n",
    "\n",
    "def pop_growth(x):\n",
    "    \n",
    "     return x['population'] * math.e ** ((x['population_growth']/100)* 35)"
   ]
  },
  {
   "cell_type": "code",
   "execution_count": 14,
   "metadata": {},
   "outputs": [],
   "source": [
    "# Application de la fonction pop_growth à chaque pays + création d'une colonne pop_2050 contenant les résultats\n",
    "a['pop_2050'] = a.apply(lambda row: pop_growth(row), axis=1)\n",
    " "
   ]
  },
  {
   "cell_type": "code",
   "execution_count": 15,
   "metadata": {},
   "outputs": [],
   "source": [
    "# Suppression des lignes contenant des valeurs manquantes\n",
    "a = a.dropna(axis = 0)\n",
    " "
   ]
  },
  {
   "cell_type": "code",
   "execution_count": 16,
   "metadata": {},
   "outputs": [],
   "source": [
    "# On filtre les pays qui ont une surface terrestre > 0 et une population > 0\n",
    "a = a[(a['area_land'] > 0) & (a['population'] > 0)]\n",
    " "
   ]
  },
  {
   "cell_type": "code",
   "execution_count": 17,
   "metadata": {},
   "outputs": [],
   "source": [
    "# On trie les pays par population décroissante\n",
    "b = a.sort_values(['pop_2050'], ascending = [False])\n",
    " "
   ]
  },
  {
   "cell_type": "code",
   "execution_count": 18,
   "metadata": {},
   "outputs": [
    {
     "name": "stdout",
     "output_type": "stream",
     "text": [
      "76                                 India\n",
      "36                                 China\n",
      "128                              Nigeria\n",
      "185                        United States\n",
      "77                             Indonesia\n",
      "131                             Pakistan\n",
      "13                            Bangladesh\n",
      "23                                Brazil\n",
      "39     Congo, Democratic Republic of the\n",
      "Name: name, dtype: object\n"
     ]
    }
   ],
   "source": [
    "# On assigne à la variable b les noms des pays correspondants limités à 10 valeurs\n",
    "b = b['name'].iloc[0:9]\n",
    " \n",
    "# On affiche le résultat final\n",
    "print(b)"
   ]
  },
  {
   "cell_type": "code",
   "execution_count": 19,
   "metadata": {},
   "outputs": [],
   "source": [
    "connexion.close()"
   ]
  },
  {
   "cell_type": "code",
   "execution_count": 20,
   "metadata": {},
   "outputs": [],
   "source": [
    "# Objectif: Calculer le ratio de la surface terrestre totale sur la surface\n",
    "# des océans totale appartenant aux pays de la table facts\n",
    " "
   ]
  },
  {
   "cell_type": "code",
   "execution_count": 21,
   "metadata": {},
   "outputs": [],
   "source": [
    "import sqlite3\n",
    "import pandas as pd\n",
    " \n",
    "connexion = sqlite3.connect('factbook.db')\n",
    " "
   ]
  },
  {
   "cell_type": "code",
   "execution_count": 22,
   "metadata": {},
   "outputs": [],
   "source": [
    "# On affiche dans un tableau pandas les sommes des surfaces terrestres et surfaces de l'eau pour chaque pays\n",
    "a = pd.read_sql_query('SELECT SUM(area_land), SUM(area_water)FROM facts WHERE area_land != \"\";', con = connexion)\n"
   ]
  },
  {
   "cell_type": "code",
   "execution_count": 23,
   "metadata": {},
   "outputs": [
    {
     "name": "stdout",
     "output_type": "stream",
     "text": [
      "0    28.390657\n",
      "dtype: float64\n"
     ]
    }
   ],
   "source": [
    "# On affiche le ratio Terre / Mer\n",
    "print(a['SUM(area_land)']/a['SUM(area_water)'])"
   ]
  },
  {
   "cell_type": "code",
   "execution_count": 24,
   "metadata": {},
   "outputs": [],
   "source": [
    "connexion.close()"
   ]
  },
  {
   "cell_type": "code",
   "execution_count": 30,
   "metadata": {},
   "outputs": [
    {
     "name": "stdout",
     "output_type": "stream",
     "text": [
      "0.0\n"
     ]
    }
   ],
   "source": [
    "import sqlite3\n",
    " \n",
    "connexion = sqlite3.connect('factbook.db')\n",
    "pop_growth_tuple=connexion.execute(\"SELECT min(population_growth)FROM facts;\").fetchall()\n",
    "min_population_growth= pop_growth_tuple[0][0]\n",
    "print(min_population_growth)\n"
   ]
  },
  {
   "cell_type": "code",
   "execution_count": 32,
   "metadata": {},
   "outputs": [
    {
     "name": "stdout",
     "output_type": "stream",
     "text": [
      "14.89\n"
     ]
    }
   ],
   "source": [
    "connexion = sqlite3.connect('factbook.db')\n",
    "pop_dead_tuple=connexion.execute(\"SELECT max(death_rate)FROM facts;\").fetchall()\n",
    "max_population_dead= pop_dead_tuple[0][0]\n",
    "print(max_population_dead)\n"
   ]
  },
  {
   "cell_type": "code",
   "execution_count": 33,
   "metadata": {},
   "outputs": [
    {
     "name": "stdout",
     "output_type": "stream",
     "text": [
      "128584834\n"
     ]
    }
   ],
   "source": [
    "connexion = sqlite3.connect('factbook.db')\n",
    "pop_area_land_tuple=connexion.execute(\"SELECT sum(area_land)FROM facts;\").fetchall()\n",
    "sum_area= pop_area_land_tuple[0][0]\n",
    "print(sum_area)"
   ]
  },
  {
   "cell_type": "code",
   "execution_count": 35,
   "metadata": {},
   "outputs": [
    {
     "name": "stdout",
     "output_type": "stream",
     "text": [
      "19067.59259259259\n"
     ]
    }
   ],
   "source": [
    "connexion = sqlite3.connect('factbook.db')\n",
    "pop_area_water_tuple=connexion.execute(\"SELECT avg(area_water)FROM facts;\").fetchall()\n",
    "moyen_area_water= pop_area_water_tuple[0][0]\n",
    "print(moyen_area_water)"
   ]
  },
  {
   "cell_type": "code",
   "execution_count": 40,
   "metadata": {},
   "outputs": [
    {
     "name": "stdout",
     "output_type": "stream",
     "text": [
      "19067.59259259259 261 4406.909999999998\n"
     ]
    }
   ],
   "source": [
    "#requette sur plusieur statistique et mise sur des variable differente \n",
    "connexion = sqlite3.connect('factbook.db')\n",
    "pop_tuple=connexion.execute(\"SELECT count(*), sum(birth_rate), avg(area_water)FROM facts;\").fetchall()\n",
    "count_fact= pop_tuple[0][0]\n",
    "sum_bird=pop_tuple[0][1]\n",
    "moyenne_area_water = pop_tuple[0][2]\n",
    "print(moyenne_area_water,count_fact,sum_bird)"
   ]
  },
  {
   "cell_type": "code",
   "execution_count": 42,
   "metadata": {},
   "outputs": [
    {
     "name": "stdout",
     "output_type": "stream",
     "text": [
      "1.2902551020408166\n"
     ]
    }
   ],
   "source": [
    "#requette qui affiche la moyenne pour les poopullation ayant plus de 1000000 million de personnne \n",
    "\n",
    "connexion = sqlite3.connect('factbook.db')\n",
    "pop_population_tuple=connexion.execute(\"SELECT avg(population_growth)FROM facts WHERE population > 100000;\").fetchall()\n",
    "moyen_pop= pop_population_tuple[0][0]\n",
    "print(moyen_pop)"
   ]
  },
  {
   "cell_type": "code",
   "execution_count": 46,
   "metadata": {},
   "outputs": [
    {
     "name": "stdout",
     "output_type": "stream",
     "text": [
      "[(38.57,), (12.92,), (23.67,), (8.13,), (38.78,), (15.85,), (16.64,), (13.61,), (12.15,), (9.41,), (15.5,), (13.66,), (21.14,), (11.87,), (10.7,), (11.41,), (24.68,), (36.02,), (17.78,), (22.76,), (8.87,), (20.96,), (14.46,), (17.32,), (8.92,), (42.03,), (18.39,), (42.01,), (23.83,), (36.17,), (10.28,), (20.33,), (35.08,), (36.6,), (13.83,), (12.49,), (16.47,), (27.84,), (34.88,), (35.85,), (15.91,), (28.67,), (9.45,), (9.9,), (9.63,), (10.27,), (23.65,), (15.41,), (18.73,), (18.51,), (22.9,), (16.46,), (33.31,), (30.0,), (10.51,), (37.27,), (19.43,), (10.72,), (12.38,), (34.49,), (30.86,), (12.74,), (8.47,), (31.09,), (8.66,), (16.03,), (24.89,), (35.74,), (33.38,), (15.59,), (22.31,), (23.14,), (9.16,), (13.91,), (19.55,), (16.72,), (17.99,), (31.45,), (14.84,), (18.48,), (8.74,), (18.16,), (7.93,), (25.37,), (19.15,), (26.4,), (21.46,), (14.52,), (8.19,), (None,), (19.91,), (22.98,), (24.25,), (10.0,), (14.59,), (25.47,), (34.41,), (18.03,), (10.45,), (10.1,), (11.37,), (11.55,), (32.61,), (41.56,), (19.71,), (15.75,), (44.99,), (10.18,), (25.6,), (31.34,), (13.29,), (18.78,), (20.54,), (12.0,), (6.65,), (20.25,), (10.42,), (18.2,), (38.58,), (19.8,), (24.95,), (20.64,), (10.83,), (13.33,), (45.45,), (37.64,), (12.14,), (24.44,), (22.58,), (11.05,), (18.32,), (24.38,), (16.37,), (18.28,), (24.27,), (9.74,), (9.27,), (9.84,), (9.14,), (11.6,), (33.75,), (13.5,), (13.7,), (13.57,), (20.87,), (8.63,), (34.23,), (34.52,), (9.08,), (14.19,), (37.03,), (8.27,), (9.91,), (8.42,), (25.77,), (40.45,), (20.75,), (36.91,), (9.64,), (29.19,), (16.34,), (24.67,), (11.99,), (10.5,), (22.17,), (36.39,), (11.19,), (34.16,), (34.13,), (23.0,), (13.46,), (16.33,), (19.4,), (23.74,), (43.79,), (15.43,), (12.17,), (13.07,), (17.0,), (25.04,), (19.16,), (15.96,), (29.98,), (42.13,), (32.26,), (10.2,), (9.23,), (8.88,), (13.77,), (14.48,), (15.22,), (15.33,), (7.42,), (13.45,), (12.56,), (13.8,), (13.0,), (14.33,), (12.67,), (11.33,), (10.91,), (12.11,), (10.9,), (14.08,), (11.91,), (11.1,), (11.26,), (9.88,), (16.13,), (22.89,), (16.82,), (10.86,), (10.31,), (31.11,), (22.99,), (30.24,), (18.6,)]\n"
     ]
    }
   ],
   "source": [
    "#selectionner les données unique \n",
    "connexion = sqlite3.connect('factbook.db')\n",
    "pop_unique_tuple=connexion.execute(\"SELECT DISTINCT birth_rate FROM facts;\").fetchall()\n",
    "distin_pop= pop_unique_tuple[0][0]\n",
    "print(pop_unique_tuple)"
   ]
  },
  {
   "cell_type": "code",
   "execution_count": 48,
   "metadata": {},
   "outputs": [
    {
     "name": "stdout",
     "output_type": "stream",
     "text": [
      "[(20.903381294964024,)]\n"
     ]
    }
   ],
   "source": [
    "#selectionner les données unique taux de naissance avec filtre  \n",
    "connexion = sqlite3.connect('factbook.db')\n",
    "pop_birth_tuple=connexion.execute(\"SELECT avg( DISTINCT birth_rate) FROM facts WHERE population > 2000000;\").fetchall()\n",
    "moyen_birt_pop= pop_unique_tuple[0][0]\n",
    "print(pop_birth_tuple)"
   ]
  },
  {
   "cell_type": "code",
   "execution_count": 49,
   "metadata": {},
   "outputs": [
    {
     "name": "stdout",
     "output_type": "stream",
     "text": [
      "[(2093388687,)]\n"
     ]
    }
   ],
   "source": [
    "connexion = sqlite3.connect('factbook.db')\n",
    "pop_population_tuple=connexion.execute(\"SELECT  sum( DISTINCT population)FROM facts WHERE area_land > 3000000;\").fetchall()\n",
    "sum_popu_pop= pop_unique_tuple[0][0]\n",
    "print(pop_population_tuple)"
   ]
  },
  {
   "cell_type": "code",
   "execution_count": 50,
   "metadata": {},
   "outputs": [
    {
     "name": "stdout",
     "output_type": "stream",
     "text": [
      "[(2.32e-06,), (3e-07,), (1.8400000000000002e-06,), (1.2e-07,), (2.7799999999999996e-06,), (1.24e-06,), (9.300000000000001e-07,), (1.5e-07,), (1.0700000000000001e-06,), (5.5e-07,), (9.6e-07,), (8.5e-07,), (2.4100000000000002e-06,), (1.6000000000000001e-06,), (3.1e-07,), (2.0000000000000002e-07,), (7.6e-07,), (1.87e-06,), (2.7799999999999996e-06,), (1.1100000000000002e-06,), (1.56e-06,), (1.3e-07,), (1.21e-06,), (7.7e-07,), (1.6200000000000002e-06,), (5.8e-07,), (3.03e-06,), (1.01e-06,), (3.28e-06,), (1.5800000000000001e-06,), (2.5899999999999998e-06,), (7.5e-07,), (1.3600000000000001e-06,), (2.13e-06,), (1.89e-06,), (8.2e-07,), (4.5000000000000003e-07,), (1.04e-06,), (1.77e-06,), (2.4500000000000003e-06,), (2e-06,), (1.22e-06,), (1.91e-06,), (1.3e-07,), (1.5e-07,), (1.4299999999999999e-06,), (1.6e-07,), (2.2e-07,), (2.2e-06,), (2.1e-07,), (1.23e-06,), (1.35e-06,), (1.79e-06,), (2.5e-07,), (2.5099999999999997e-06,), (2.25e-06,), (5.5e-07,), (2.8900000000000003e-06,), (6.7e-07,), (4.0000000000000003e-07,), (4.3e-07,), (1.9299999999999997e-06,), (2.16e-06,), (8e-08,), (1.7000000000000001e-07,), (2.1800000000000003e-06,), (1e-08,), (4.8e-07,), (1.8200000000000002e-06,), (2.63e-06,), (1.91e-06,), (2e-08,), (1.17e-06,), (1.68e-06,), (2.2e-07,), (1.21e-06,), (1.22e-06,), (9.200000000000001e-07,), (1.2e-06,), (2.9300000000000003e-06,), (1.25e-06,), (1.56e-06,), (2.7e-07,), (6.800000000000001e-07,), (1.6e-07,), (8.3e-07,), (1.1399999999999999e-06,), (1.9299999999999997e-06,), (1.15e-06,), (5.3e-07,), (1.4e-07,), (None,), (1.6200000000000002e-06,), (1.1100000000000002e-06,), (1.55e-06,), (1.06e-06,), (8.6e-07,), (3.2e-07,), (2.47e-06,), (2.23e-06,), (8.4e-07,), (1.04e-06,), (2.13e-06,), (2.0000000000000002e-07,), (2.58e-06,), (3.32e-06,), (1.44e-06,), (8e-08,), (2.98e-06,), (3.1e-07,), (1.66e-06,), (2.23e-06,), (6.4e-07,), (1.18e-06,), (4.6000000000000004e-07,), (1.03e-06,), (1.2e-07,), (1.31e-06,), (4.2e-07,), (1e-06,), (2.4500000000000003e-06,), (5.9e-07,), (5.5e-07,), (1.79e-06,), (4.1e-07,), (8.2e-07,), (1e-06,), (3.25e-06,), (2.4500000000000003e-06,), (1.13e-06,), (2.0699999999999997e-06,), (1.46e-06,), (3.8e-07,), (1.32e-06,), (1.7800000000000001e-06,), (1.16e-06,), (9.7e-07,), (1.61e-06,), (9e-08,), (9e-08,), (3.07e-06,), (3e-07,), (4e-08,), (2.56e-06,), (7.6e-07,), (3.4000000000000003e-07,), (2.8e-07,), (5.8e-07,), (8.2e-07,), (1.8400000000000002e-06,), (1.46e-06,), (2.4500000000000003e-06,), (4.6000000000000004e-07,), (8.3e-07,), (2.35e-06,), (1.89e-06,), (2e-08,), (2.6e-07,), (2.02e-06,), (1.83e-06,), (1.33e-06,), (4.02e-06,), (8.900000000000001e-07,), (8.4e-07,), (1.72e-06,), (1.08e-06,), (1.1100000000000002e-06,), (8.000000000000001e-07,), (7.1e-07,), (1.6e-07,), (1.71e-06,), (2.79e-06,), (3.4000000000000003e-07,), (2.42e-06,), (2.69e-06,), (3e-08,), (1.3e-07,), (8.900000000000001e-07,), (1.26e-06,), (1.1399999999999999e-06,), (8.2e-07,), (3.2400000000000003e-06,), (6e-07,), (2.58e-06,), (5.4e-07,), (7.8e-07,), (2.7e-07,), (9.300000000000001e-07,), (1.95e-06,), (0.0,), (1.3899999999999998e-06,), (9.7e-07,), (2.47e-06,), (2.88e-06,), (2.21e-06,), (2.3000000000000002e-07,), (2.5e-07,), (None,), (1.1100000000000002e-06,), (0.0,), (None,), (None,), (1e-08,), (3.8e-07,), (8.000000000000001e-07,), (5.1e-07,), (0.0,), (None,), (9.399999999999999e-07,), (None,), (1.38e-06,), (None,), (None,), (1.08e-06,), (3.3e-07,), (1.33e-06,), (4.3e-07,), (1.51e-06,), (2.95e-06,), (3e-08,), (1e-08,), (None,), (None,), (3e-08,), (None,), (2.0299999999999996e-06,), (5e-07,), (None,), (2.32e-06,), (2.1000000000000002e-06,), (None,), (1e-08,), (2.4e-07,), (3.4000000000000003e-07,), (8.000000000000001e-07,), (7.6e-07,), (5e-07,), (0.0,), (2.4e-07,), (None,), (2.3e-06,), (3e-07,), (5.4e-07,), (None,), (2.1800000000000003e-06,), (6e-07,), (5.9e-07,), (None,), (None,), (None,), (2.81e-06,), (None,), (None,), (1.95e-06,), (2.8199999999999997e-06,), (None,), (None,), (None,), (None,), (None,), (1.08e-06,)]\n"
     ]
    }
   ],
   "source": [
    "#operation mathematique en sql \n",
    "connexion = sqlite3.connect('factbook.db')\n",
    "pop_population_tuple=connexion.execute(\"SELECT population_growth/1000000.0 FROM facts;\").fetchall()\n",
    "popu_mili_pop= pop_population_tuple[0][0]\n",
    "print(pop_population_tuple)"
   ]
  },
  {
   "cell_type": "code",
   "execution_count": 51,
   "metadata": {},
   "outputs": [
    {
     "name": "stdout",
     "output_type": "stream",
     "text": [
      "[('Afghanistan', 1060436402457306), ('Albania', 9176528230562), ('Algeria', 1563582931513722), ('Andorra', 7324021980), ('Angola', 385154499999962), ('Antigua and Barbuda', 8544506532), ('Argentina', 1886328764948882), ('Armenia', 9341473986306), ('Australia', 517608660779210), ('Austria', 75091765468050), ('Azerbaijan', 95663667189180), ('Bahamas, The', 105363537006), ('Bahrain', 1813367918382), ('Bangladesh', 28546719764442770), ('Barbados', 84450975420), ('Belarus', 91962144706410), ('Belgium', 128232375828702), ('Belize', 120665569530), ('Benin', 109174234579256), ('Bhutan', 550444544480), ('Bolivia', 116659062778806), ('Bosnia and Herzegovina', 14954118240080), ('Botswana', 4764264415680), ('Brazil', 41722071002535156), ('Brunei', 184596114962), ('Bulgaria', 51651438180342), ('Burkina Faso', 358408753734282), ('Burma', 3171965660202642), ('Burundi', 115396504402452), ('Cambodia', 246765030776292), ('Cameroon', 563550494990742), ('Canada', 1231998522326732), ('Cabo Verde', 298108902042), ('Central African Republic', 29068698180060), ('Chad', 135290780311392), ('Chile', 306539185735860), ('China', 1870016287760995932), ('Colombia', 2184321790882712), ('Comoros', 609916483812), ('Congo, Democratic Republic of the', 6300412294393632), ('Congo, Republic of the', 22610952234506), ('Costa Rica', 23175987266880), (\"Cote d'Ivoire\", 542671118566506), ('Croatia', 19934836409180), ('Cuba', 121692525064922), ('Cyprus', 1414190694006), ('Czech Republic', 113312671849806), ('Denmark', 31153181320512), ('Djibouti', 686121477300), ('Dominica', 5418064056), ('Dominican Republic', 109804337786292), ('Ecuador', 251806007481212), ('Egypt', 7830019339348212), ('El Salvador', 37716185963850), ('Equatorial Guinea', 548700932792), ('Eritrea', 42610730208410), ('Estonia', 1601289041820), ('Ethiopia', 9893449248806580), ('Fiji', 826989262710), ('Finland', 29996680071006), ('France', 4429403835336522), ('Gabon', 2908172578232), ('Gambia, The', 3871880676390), ('Georgia', 24316994794302), ('Germany', 6537435373884872), ('Ghana', 693145128194850), ('Greece', 116114492839092), ('Grenada', 12253272330), ('Guatemala', 222576546081000), ('Guinea', 138772228526406), ('Guinea-Bissau', 2979664595070), ('Guyana', 540552124506), ('Haiti', 102212494290380), ('Honduras', 76504297315602), ('Hungary', 97961327744222), ('Iceland', 110169890642), ('India', 1566741836256796640), ('Indonesia', 65532761384011950), ('Iran', 6695211242857170), ('Iraq', 1373159698012730), ('Ireland', 23934653105330), ('Israel', 64791463919910), ('Italy', 3826055932069520), ('Jamaica', 8703741994310), ('Japan', 16108599967595940), ('Jordan', 65894853411660), ('Kazakhstan', 329681097480006), ('Kenya', 2109133317865902), ('Kiribati', 11174921232), ('Korea, North', 624160557055230), ('Korea, South', 2412302527233612), ('Kosovo', 3500571773342), ('Kuwait', 7775924657690), ('Kyrgyzstan', 32091539538660), ('Laos', 47769447375480), ('Latvia', 3946998743730), ('Lebanon', 38250532644102), ('Lesotho', 3793541133102), ('Liberia', 17603617379222), ('Libya', 41110877885952), ('Liechtenstein', 1415603000), ('Lithuania', 8319956615922), ('Luxembourg', 325187913756), ('Macedonia', 4393280976240), ('Madagascar', 567043800220442), ('Malawi', 322730356266506), ('Malaysia', 931094950280952), ('Maldives', 154648315262), ('Mali', 287490218002832), ('Malta', 171367435190), ('Marshall Islands', 5211612672), ('Mauritania', 12936268873506), ('Mauritius', 1795137729756), ('Mexico', 14819850787239290), ('Micronesia, Federated States of', 11070511872), ('Moldova', 12580127188256), ('Monaco', 932416760), ('Mongolia', 8957501289372), ('Montenegro', 418704114402), ('Morocco', 1110402301967300), ('Mozambique', 640247552793882), ('Namibia', 4894304474556), ('Nauru', 91021140), ('Nepal', 995484878754330), ('Netherlands', 287231466941120), ('New Zealand', 19699336860842), ('Nicaragua', 34903063818042), ('Niger', 325648353187170), ('Nigeria', 32964780360509192), ('Norway', 27120029928410), ('Oman', 10803951555032), ('Pakistan', 39635174674793256), ('Palau', 452221490), ('Panama', 13373828193600), ('Papua New Guinea', 44521315432470), ('Paraguay', 46012785809256), ('Peru', 926897994555000), ('Philippines', 10200672055635752), ('Poland', 1487042459033910), ('Portugal', 117187325770790), ('Qatar', 4817223858306), ('Romania', 469430743988850), ('Russia', 20284531257979302), ('Rwanda', 160319495225022), ('Saint Kitts and Nevis', 2697400032), ('Saint Lucia', 26870586006), ('Saint Vincent and the Grenadines', 10532403756), ('Samoa', 39114357302), ('San Marino', 1090353420), ('Sao Tome and Principe', 37638522042), ('Saudi Arabia', 770191071116172), ('Senegal', 195323949971390), ('Serbia', 51506379295230), ('Seychelles', 8543397330), ('Sierra Leone', 34563799172702), ('Singapore', 32199638153256), ('Slovakia', 29648324475756), ('Slovenia', 3933925145156), ('Solomon Islands', 387468278430), ('Somalia', 112707534920780), ('South Africa', 2881066117042532), ('South Sudan', 145031693311010), ('Spain', 2318050267292090), ('Sri Lanka', 486356355019632), ('Sudan', 1303849301084462), ('Suriname', 335974994322), ('Swaziland', 2060986121382), ('Sweden', 96071686013072), ('Switzerland', 65964130670730), ('Syria', 291209259106170), ('Tajikistan', 67108184065722), ('Tanzania', 2605682120203806), ('Thailand', 4620791704700430), ('Timor-Leste', 1515647836572), ('Togo', 57037514725442), ('Tonga', 11342569502), ('Trinidad and Tobago', 1494172526132), ('Tunisia', 121820346737850), ('Turkey', 6306626200218630), ('Turkmenistan', 27367781373506), ('Tuvalu', 118146030), ('Uganda', 1376539519146770), ('Ukraine', 1973977937769312), ('United Arab Emirates', 33405631437360), ('United Kingdom', 4107300263209506), ('United States', 103277947070019360), ('Uruguay', 11168252165342), ('Uzbekistan', 852636642003306), ('Vanuatu', 74127957960), ('Holy See (Vatican City)', 709806), ('Venezuela', 857052587487060), ('Vietnam', 8901702760206060), ('Yemen', 714884147095806), ('Zambia', 226992386249022), ('Zimbabwe', 202479851300222), ('Taiwan', 548268149011002), ('European Union', 264144032529757470), ('Ashmore and Cartier Islands', None), ('Christmas Island', 2342430), ('Cocos (Keeling) Islands', 355812), ('Coral Sea Islands', None), ('Heard Island and McDonald Islands', None), ('Norfolk Island', 4886310), ('Hong Kong', 50995402044342), ('Macau', 351330631092), ('Faroe Islands', 2519688612), ('Greenland', 3333157022), ('Clipperton Island', None), ('French Polynesia', 79921268912), ('French Southern and Antarctic Lands', None), ('New Caledonia', 73774979840), ('Saint Barthelemy', 52381406), ('Saint Martin', 1008348270), ('Saint Pierre and Miquelon', 32007306), ('Wallis and Futuna', 243781382), ('Aruba', 12580426406), ('Curacao', 22024489242), ('Sint Maarten', 1575256410), ('Cook Islands', 96796082), ('Niue', 1417290), ('Tokelau', 1788906), ('Bouvet Island', None), ('Jan Mayen', None), ('Svalbard', 3506256), ('Akrotiri', 246505700), ('Anguilla', 269567142), ('Bermuda', 4927548612), ('British Indian Ocean Territory', None), ('British Virgin Islands', 1119203570), ('Cayman Islands', 3146368556), ('Dhekelia', 246505700), ('Falkland Islands (Islas Malvinas)', 11299682), ('Gibraltar', 856059822), ('Guernsey', 4366632480), ('Jersey', 9466219730), ('Isle of Man', 7664214570), ('Montserrat', 27473322), ('Pitcairn Islands', 2352), ('Saint Helena, Ascension, and Tristan da Cunha', 60769820), ('South Georgia and South Sandwich Islands', None), ('Turks and Caicos Islands', 2528128680), ('American Samoa', 2953215992), ('Guam', 26174548010), ('Navassa Island', None), ('Northern Mariana Islands', 2739946680), ('Puerto Rico', 12948176697806), ('Virgin Islands', 10727677050), ('Wake Island', None), ('United States Pacific Island Wildlife Refuges', None), ('Antarctica', 0), ('Gaza Strip', 3493368462080), ('Paracel Islands', None), ('Spratly Islands', None), ('West Bank', 7758266539322), ('Western Sahara', 325888560822), ('Arctic Ocean', None), ('Atlantic Ocean', None), ('Indian Ocean', None), ('Pacific Ocean', None), ('Southern Ocean', None), ('World', 5.265664728699927e+19)]\n"
     ]
    }
   ],
   "source": [
    "#calcule de nombre d'augmentation des population par pays \n",
    "\n",
    "connexion = sqlite3.connect('factbook.db')\n",
    "population_tuple=connexion.execute(\"SELECT  name, population*(population+1)FROM facts;\").fetchall()\n",
    "popu_2016_pop= population_tuple[0][0]\n",
    "print(population_tuple)"
   ]
  },
  {
   "cell_type": "code",
   "execution_count": 57,
   "metadata": {},
   "outputs": [
    {
     "name": "stdout",
     "output_type": "stream",
     "text": [
      "[(62094928.32231405, 1.2009745762711865, 19.32855263157894, 7.8212719298245625)]\n"
     ]
    }
   ],
   "source": [
    "#calcule de la moyenne pour (population ), avg(population_growth), avg(birth_rate), avg(death_rate)\n",
    "\n",
    "connexion = sqlite3.connect('factbook.db')\n",
    "population_tuple=connexion.execute(\"SELECT avg(population ), avg(population_growth), avg(birth_rate), avg(death_rate)FROM facts;\").fetchall()\n",
    "popu_avg= population_tuple[0][0]\n",
    "popu_growth= population_tuple[0][1]\n",
    "birth_avg= population_tuple[0][2]\n",
    "deat_rate_avg= population_tuple[0][3]\n",
    "print(population_tuple)"
   ]
  },
  {
   "cell_type": "code",
   "execution_count": 60,
   "metadata": {},
   "outputs": [
    {
     "name": "stdout",
     "output_type": "stream",
     "text": [
      "7.8212719298245625\n"
     ]
    }
   ],
   "source": [
    "print(deat_rate_avg)"
   ]
  },
  {
   "cell_type": "code",
   "execution_count": 61,
   "metadata": {},
   "outputs": [],
   "source": [
    "#trouver les valeurs extremes Minimun et maximun  \n",
    "minimun = \"SELECT min(population), min(population_growth), min(birth_rate), min(death_rate)FROM facts;\"\n",
    "maximun = \"SELECT max(population), max(population_growth), max(birth_rate), max(death_rate)FROM facts;\"\n",
    "min_result = connexion.execute(minimun).fetchall()\n",
    "max_result = connexion.execute(maximun).fetchall()\n",
    "pop_min =min_result[0][0]\n",
    "pop_max=max_result[0][0]\n",
    "pop_growth_min=min_result[0][1]\n",
    "pop_growth_max=max_result[0][1]\n",
    "birth_min=min_result[0][2]\n",
    "birth_max=max_result[0][2]\n",
    "death_min=min_result[0][3]\n",
    "death_max=max_result[0][3]"
   ]
  },
  {
   "cell_type": "code",
   "execution_count": 62,
   "metadata": {},
   "outputs": [
    {
     "name": "stdout",
     "output_type": "stream",
     "text": [
      "0\n",
      "7256490011\n",
      "0.0\n",
      "4.02\n",
      "6.65\n",
      "45.45\n",
      "1.53\n",
      "14.89\n"
     ]
    }
   ],
   "source": [
    "print(pop_min)\n",
    "print(pop_max)\n",
    "print(pop_growth_min)\n",
    "print(pop_growth_max)\n",
    "print(birth_min)\n",
    "print(birth_max)\n",
    "print(death_min)\n",
    "print(death_max)"
   ]
  },
  {
   "cell_type": "code",
   "execution_count": 63,
   "metadata": {},
   "outputs": [],
   "source": [
    "#trouver les valeurs extremes Minimun et maximun \n",
    "#avec une condition avoir les resultat \n",
    "minimun = \"SELECT min(population), min(population_growth), min(birth_rate), min(death_rate)FROM facts WHERE population < 20000000000 and > 0;\"\n",
    "maximun = \"SELECT max(population), max(population_growth), max(birth_rate), max(death_rate)FROM facts WHERE population < 20000000000 and > 0;\"\n",
    "min_result = connexion.execute(minimun).fetchall()\n",
    "max_result = connexion.execute(maximun).fetchall()\n",
    "pop_min =min_result[0][0]\n",
    "pop_max=max_result[0][0]\n",
    "pop_growth_min=min_result[0][1]\n",
    "pop_growth_max=max_result[0][1]\n",
    "birth_min=min_result[0][2]\n",
    "birth_max=max_result[0][2]\n",
    "death_min=min_result[0][3]\n",
    "death_max=max_result[0][3]"
   ]
  },
  {
   "cell_type": "code",
   "execution_count": 64,
   "metadata": {},
   "outputs": [
    {
     "name": "stdout",
     "output_type": "stream",
     "text": [
      "0\n",
      "7256490011\n",
      "0.0\n",
      "4.02\n",
      "6.65\n",
      "45.45\n",
      "1.53\n",
      "14.89\n"
     ]
    }
   ],
   "source": [
    "print(pop_min)\n",
    "print(pop_max)\n",
    "print(pop_growth_min)\n",
    "print(pop_growth_max)\n",
    "print(birth_min)\n",
    "print(birth_max)\n",
    "print(death_min)\n",
    "print(death_max)"
   ]
  },
  {
   "cell_type": "code",
   "execution_count": 65,
   "metadata": {},
   "outputs": [
    {
     "name": "stdout",
     "output_type": "stream",
     "text": [
      "[(33319835.0,), (3038366.0,), (40269742.0,), (85683.0,), (20170938.0,), (93582.0,), (43835803.0,), (3060967.0,), (22994450.0,), (8713211.0,)]\n"
     ]
    }
   ],
   "source": [
    "#predire la future croissance demographique \n",
    "project_population = \"SELECT round(population + population * (population_growth/100), 0)FROM facts WHERE population > 0 AND population < 70000000000 AND population IS NOT NULL AND population_growth IS NOT NULL ; \"\n",
    "project_popu = connexion.execute(project_population).fetchall()\n",
    "print(project_popu[0:10])"
   ]
  },
  {
   "cell_type": "code",
   "execution_count": 67,
   "metadata": {},
   "outputs": [
    {
     "name": "stdout",
     "output_type": "stream",
     "text": [
      "48.0 7334860103.0 64343836.381355934\n"
     ]
    }
   ],
   "source": [
    "# explorer plus d'estimation démographique ... min / max / et moyenne \n",
    "\n",
    "project_population = \"SELECT min(round(population + population * (population_growth/100), 0)),max(round(population + population * (population_growth/100), 0)),avg(round(population + population * (population_growth/100), 0))FROM facts WHERE population > 0 AND population < 70000000000 AND population IS NOT NULL AND population_growth IS NOT NULL ; \"\n",
    "project_popu = connexion.execute(project_population).fetchall()\n",
    "project_min= project_popu[0][0]\n",
    "project_max= project_popu[0][1]\n",
    "project_moy= project_popu[0][2]\n",
    "print(project_min, project_max, project_moy)"
   ]
  },
  {
   "cell_type": "code",
   "execution_count": 70,
   "metadata": {},
   "outputs": [
    {
     "name": "stdout",
     "output_type": "stream",
     "text": [
      "(2010, 'Black Swan')\n",
      "(2004, 'Closer')\n"
     ]
    }
   ],
   "source": [
    "#calcule de nombre d'augmentation des population par pays \n",
    "\n",
    "connexion = sqlite3.connect('academy_awards.db')\n",
    "actrice_tuple=connexion.execute(\"SELECT ceremonies.year, nominations.movie FROM nominations INNER JOIN ceremonies ON ceremonies.id == nominations.ceremony_id WHERE nominations.nominee=='Natalie Portman';\").fetchall()\n",
    "actrice_movie_pop= actrice_tuple[0][0]\n",
    "for p in actrice_tuple :\n",
    "    print(p)\n",
    "#print(actrice_movie_pop)"
   ]
  },
  {
   "cell_type": "code",
   "execution_count": null,
   "metadata": {},
   "outputs": [],
   "source": []
  }
 ],
 "metadata": {
  "kernelspec": {
   "display_name": "Python 3",
   "language": "python",
   "name": "python3"
  },
  "language_info": {
   "codemirror_mode": {
    "name": "ipython",
    "version": 3
   },
   "file_extension": ".py",
   "mimetype": "text/x-python",
   "name": "python",
   "nbconvert_exporter": "python",
   "pygments_lexer": "ipython3",
   "version": "3.7.7"
  }
 },
 "nbformat": 4,
 "nbformat_minor": 4
}
